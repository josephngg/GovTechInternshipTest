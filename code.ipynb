{
 "cells": [
  {
   "cell_type": "markdown",
   "metadata": {},
   "source": [
    "### Importing Libraries to be used for the following code"
   ]
  },
  {
   "cell_type": "code",
   "execution_count": 25,
   "metadata": {},
   "outputs": [],
   "source": [
    "import requests\n",
    "import csv\n",
    "import pandas as pd\n",
    "from datetime import datetime"
   ]
  },
  {
   "cell_type": "markdown",
   "metadata": {},
   "source": [
    "### Requesting data from the json link and importing data from excel"
   ]
  },
  {
   "cell_type": "code",
   "execution_count": 2,
   "metadata": {},
   "outputs": [],
   "source": [
    "json_link = 'https://raw.githubusercontent.com/Papagoat/brain-assessment/main/restaurant_data.json'\n",
    "\n",
    "response = requests.get(json_link)\n",
    "\n",
    "if response.status_code == 200:\n",
    "    json_data = response.json()\n",
    "else:\n",
    "    print(f'Failed to fetch data from JSON link. Status code: {response.status_code}')"
   ]
  },
  {
   "cell_type": "code",
   "execution_count": 11,
   "metadata": {},
   "outputs": [],
   "source": [
    "country_df = pd.read_excel(\"Country-Code.xlsx\")"
   ]
  },
  {
   "cell_type": "markdown",
   "metadata": {},
   "source": [
    "### Defining a general recursive function that extracts information from a restaurant dictionary\n",
    "\n",
    "The function takes in the dictionary and goes through it recursively until either there are no more nested list or dictionaries and or the keys to be extracted cannot be found any more"
   ]
  },
  {
   "cell_type": "code",
   "execution_count": 59,
   "metadata": {},
   "outputs": [],
   "source": [
    "def extract_values(dictionary, keys_to_extract):\n",
    "    result = {}\n",
    "\n",
    "    def recursive_extract(data, keys):\n",
    "        for key, value in data.items():\n",
    "            if isinstance(value, dict):\n",
    "                recursive_extract(value, keys)\n",
    "            elif key in keys:\n",
    "                result[key] = value\n",
    "\n",
    "    recursive_extract(dictionary, keys_to_extract)\n",
    "    return result"
   ]
  },
  {
   "cell_type": "markdown",
   "metadata": {},
   "source": [
    "### Defining the function for question 1\n",
    "\n",
    "The function directly writes to the csv while at the same time comparing the country_id to the data in the country excel sheet to get the country name for each restaurant entry"
   ]
  },
  {
   "cell_type": "code",
   "execution_count": null,
   "metadata": {},
   "outputs": [],
   "source": [
    "def question_1(res_columns, filename, extraction_func=extract_values):\n",
    "    with open(filename, mode='w', newline='') as res_file:\n",
    "        writer = csv.DictWriter(res_file, fieldnames=res_columns)\n",
    "        writer.writeheader()\n",
    "\n",
    "        for dictionary in json_data:\n",
    "            for restaurant_data in dictionary[\"restaurants\"]:\n",
    "                extracted_values = extraction_func(restaurant_data, res_columns)     \n",
    "\n",
    "                country_info = country_df[country_df['Country Code'] == extracted_values['country_id']]\n",
    "                if not country_info.empty:\n",
    "                    extracted_values.update({\n",
    "                        'country': country_info['Country'].values[0]\n",
    "                    })\n",
    "                writer.writerow(extracted_values)\n",
    "                \n",
    "    return f'The file is saved in {filename}'\n",
    "\n",
    "res_columns_1 = ['res_id', 'name', 'country_id','country','city','votes','aggregate_rating','cuisines']\n",
    "\n",
    "question_1(res_columns_1, 'question1.csv')"
   ]
  },
  {
   "cell_type": "markdown",
   "metadata": {},
   "source": [
    "### Defining the function for question 2\n",
    "\n",
    "This function is similar to that for question 1 but there is an added condition where only events that are held in **April 2019** are considered. Blank entries are given a NA value."
   ]
  },
  {
   "cell_type": "code",
   "execution_count": 31,
   "metadata": {},
   "outputs": [],
   "source": [
    "def question_2(res_columns, filename, extraction_func=extract_values):\n",
    "    with open(filename, mode='w', newline='') as res_file:\n",
    "        writer = csv.DictWriter(res_file, fieldnames=res_columns)\n",
    "        writer.writeheader()\n",
    "\n",
    "        for dictionary in json_data:\n",
    "            for restaurant_data in dictionary[\"restaurants\"]:\n",
    "                extracted_values = extraction_func(restaurant_data, res_columns)     \n",
    "\n",
    "                if 'start_date' in extracted_values:\n",
    "                    start_date = datetime.strptime(extracted_values['start_date'], '%Y-%m-%d')\n",
    "\n",
    "                    if start_date.year == 2019 and start_date.month == 4:\n",
    "\n",
    "                        for i in res_columns: \n",
    "                            if i not in extracted_values:\n",
    "                                extracted_values[i] = pd.NA\n",
    "\n",
    "                        writer.writerow(extracted_values)\n",
    "    return f'The file is saved in {filename}'\n",
    "\n",
    "res_columns_2 = ['event_id','res_id','name','photos_url','title','start_date','end_date']\n",
    "\n",
    "question_2(res_columns_2, 'question2.csv')"
   ]
  },
  {
   "cell_type": "markdown",
   "metadata": {},
   "source": [
    "## Defining function for question 3\n",
    "\n",
    "The function extracts the values similar to question 1 and 2. It then checks whether it is part of the rating text that we are looking out for and gets the range of the threshold for the different rating text"
   ]
  },
  {
   "cell_type": "code",
   "execution_count": 61,
   "metadata": {},
   "outputs": [
    {
     "data": {
      "text/html": [
       "<div>\n",
       "<style scoped>\n",
       "    .dataframe tbody tr th:only-of-type {\n",
       "        vertical-align: middle;\n",
       "    }\n",
       "\n",
       "    .dataframe tbody tr th {\n",
       "        vertical-align: top;\n",
       "    }\n",
       "\n",
       "    .dataframe thead th {\n",
       "        text-align: right;\n",
       "    }\n",
       "</style>\n",
       "<table border=\"1\" class=\"dataframe\">\n",
       "  <thead>\n",
       "    <tr style=\"text-align: right;\">\n",
       "      <th></th>\n",
       "      <th>min</th>\n",
       "      <th>max</th>\n",
       "    </tr>\n",
       "    <tr>\n",
       "      <th>rating_text</th>\n",
       "      <th></th>\n",
       "      <th></th>\n",
       "    </tr>\n",
       "  </thead>\n",
       "  <tbody>\n",
       "    <tr>\n",
       "      <th>Average</th>\n",
       "      <td>2.5</td>\n",
       "      <td>3.4</td>\n",
       "    </tr>\n",
       "    <tr>\n",
       "      <th>Excellent</th>\n",
       "      <td>4.5</td>\n",
       "      <td>4.9</td>\n",
       "    </tr>\n",
       "    <tr>\n",
       "      <th>Good</th>\n",
       "      <td>3.5</td>\n",
       "      <td>3.9</td>\n",
       "    </tr>\n",
       "    <tr>\n",
       "      <th>Poor</th>\n",
       "      <td>2.2</td>\n",
       "      <td>2.2</td>\n",
       "    </tr>\n",
       "    <tr>\n",
       "      <th>Very Good</th>\n",
       "      <td>4.0</td>\n",
       "      <td>4.4</td>\n",
       "    </tr>\n",
       "  </tbody>\n",
       "</table>\n",
       "</div>"
      ],
      "text/plain": [
       "             min  max\n",
       "rating_text          \n",
       "Average      2.5  3.4\n",
       "Excellent    4.5  4.9\n",
       "Good         3.5  3.9\n",
       "Poor         2.2  2.2\n",
       "Very Good    4.0  4.4"
      ]
     },
     "execution_count": 61,
     "metadata": {},
     "output_type": "execute_result"
    }
   ],
   "source": [
    "def question_3(res_columns, ratings_list, extraction_func=extract_values):\n",
    "    temp = []\n",
    "    for dictionary in json_data:\n",
    "        for restaurant_data in dictionary[\"restaurants\"]:\n",
    "            extracted_values = extract_values(restaurant_data, res_columns)  \n",
    "            \n",
    "            if extracted_values['rating_text'] in ratings_list:\n",
    "                temp.append(extracted_values)\n",
    "    test_df = pd.DataFrame(temp)\n",
    "    threshold = test_df.groupby('rating_text')['aggregate_rating'].agg(['min','max'])\n",
    "    return threshold\n",
    "\n",
    "res_columns_3 = ['aggregate_rating','rating_text']\n",
    "ratings_list = ['Excellent','Very Good','Good','Average','Poor']\n",
    "\n",
    "question_3(res_columns_3, ratings_list)"
   ]
  }
 ],
 "metadata": {
  "kernelspec": {
   "display_name": "amex",
   "language": "python",
   "name": "python3"
  },
  "language_info": {
   "codemirror_mode": {
    "name": "ipython",
    "version": 3
   },
   "file_extension": ".py",
   "mimetype": "text/x-python",
   "name": "python",
   "nbconvert_exporter": "python",
   "pygments_lexer": "ipython3",
   "version": "3.8.18"
  }
 },
 "nbformat": 4,
 "nbformat_minor": 2
}
